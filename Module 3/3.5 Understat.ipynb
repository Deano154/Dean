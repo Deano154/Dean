{
 "cells": [
  {
   "cell_type": "markdown",
   "source": [
    "# Understat\n",
    "\n",
    "Understat is one of the most popular websites for football data and football analysts.\n",
    "\n",
    "It provides mostly event data of shots with the expected goals and expected assists, but there are some other things you can scrape from the website as well such as league standings, lineups, and expected points as well."
   ],
   "metadata": {
    "collapsed": false
   },
   "id": "5f6d9bd39b6adbd5"
  },
  {
   "cell_type": "code",
   "execution_count": 1,
   "outputs": [],
   "source": [
    "# Importing the necessary libraries\n",
    "import re\n",
    "import json\n",
    "import requests\n",
    "\n",
    "from bs4 import BeautifulSoup\n",
    "\n",
    "import pandas as pd"
   ],
   "metadata": {
    "collapsed": false,
    "ExecuteTime": {
     "end_time": "2024-03-08T15:46:16.584478Z",
     "start_time": "2024-03-08T15:46:14.105118Z"
    }
   },
   "id": "db8a660895c883ab"
  },
  {
   "cell_type": "code",
   "execution_count": 3,
   "outputs": [
    {
     "name": "stdout",
     "output_type": "stream",
     "text": [
      "200\n"
     ]
    }
   ],
   "source": [
    "# We'll start by scraping the data of a single match\n",
    "url = 'https://understat.com/match/22133'\n",
    "\n",
    "response = requests.get(url)\n",
    "print(response.status_code)"
   ],
   "metadata": {
    "collapsed": false,
    "ExecuteTime": {
     "end_time": "2024-03-08T15:48:03.347175Z",
     "start_time": "2024-03-08T15:48:02.459113Z"
    }
   },
   "id": "3f5403e98400484c"
  },
  {
   "cell_type": "code",
   "execution_count": 4,
   "outputs": [],
   "source": [
    "# We'll use BeautifulSoup to parse the HTML content of the page\n",
    "# I also any time I have to do something besides using css selectors, \n",
    "# I'll use regex to scrape the data thus I create an \"ugly_soup\" variable\n",
    "# which is the string representation of the soup object\n",
    "\n",
    "soup = BeautifulSoup(response.content, 'html.parser')\n",
    "ugly_soup = str(soup)"
   ],
   "metadata": {
    "collapsed": false,
    "ExecuteTime": {
     "end_time": "2024-03-08T15:48:06.879741Z",
     "start_time": "2024-03-08T15:48:06.877508Z"
    }
   },
   "id": "d8a1ad493c856252"
  },
  {
   "cell_type": "code",
   "execution_count": 5,
   "outputs": [],
   "source": [
    "# strip unnecessary symbols and get only JSON data\n",
    "shots_data = re.search(\"var shotsData .*= JSON.parse\\('(.*)'\\)\", ugly_soup).group(1)\n",
    "data = json.loads(shots_data.encode('utf8').decode('unicode_escape'))"
   ],
   "metadata": {
    "collapsed": false,
    "ExecuteTime": {
     "end_time": "2024-03-08T15:48:07.876101Z",
     "start_time": "2024-03-08T15:48:07.869471Z"
    }
   },
   "id": "65c03b760ef913ba"
  },
  {
   "cell_type": "code",
   "execution_count": 6,
   "outputs": [],
   "source": [
    "# Turn it into a dataframe\n",
    "home_df = pd.DataFrame(data['h'])\n",
    "away_df = pd.DataFrame(data['a'])"
   ],
   "metadata": {
    "collapsed": false,
    "ExecuteTime": {
     "end_time": "2024-03-08T15:48:08.695578Z",
     "start_time": "2024-03-08T15:48:08.688734Z"
    }
   },
   "id": "e609bcbcc5977e50"
  },
  {
   "cell_type": "code",
   "execution_count": 8,
   "outputs": [
    {
     "name": "stdout",
     "output_type": "stream",
     "text": [
      "id                               562890\n",
      "minute                               18\n",
      "result                      BlockedShot\n",
      "X                    0.7280000305175781\n",
      "Y                    0.4979999923706055\n",
      "xG                 0.016671108081936836\n",
      "player                     Jarrod Bowen\n",
      "h_a                                   h\n",
      "player_id                          1776\n",
      "situation                      OpenPlay\n",
      "season                             2023\n",
      "shotType                       LeftFoot\n",
      "match_id                          22133\n",
      "h_team                         West Ham\n",
      "a_team                          Arsenal\n",
      "h_goals                               0\n",
      "a_goals                               6\n",
      "date                2024-02-11 14:00:00\n",
      "player_assisted                    None\n",
      "lastAction                 BallRecovery\n",
      "Name: 0, dtype: object\n"
     ]
    }
   ],
   "source": [
    "print(home_df.iloc[0])"
   ],
   "metadata": {
    "collapsed": false,
    "ExecuteTime": {
     "end_time": "2024-03-08T15:48:35.335029Z",
     "start_time": "2024-03-08T15:48:35.331358Z"
    }
   },
   "id": "4e630ea30519646f"
  },
  {
   "cell_type": "code",
   "execution_count": null,
   "outputs": [],
   "source": [],
   "metadata": {
    "collapsed": false
   },
   "id": "37dc95d4c8c4d82d"
  }
 ],
 "metadata": {
  "kernelspec": {
   "display_name": "Python 3",
   "language": "python",
   "name": "python3"
  },
  "language_info": {
   "codemirror_mode": {
    "name": "ipython",
    "version": 2
   },
   "file_extension": ".py",
   "mimetype": "text/x-python",
   "name": "python",
   "nbconvert_exporter": "python",
   "pygments_lexer": "ipython2",
   "version": "2.7.6"
  }
 },
 "nbformat": 4,
 "nbformat_minor": 5
}
