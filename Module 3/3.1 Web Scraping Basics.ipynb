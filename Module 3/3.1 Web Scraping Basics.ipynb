{
 "cells": [
  {
   "cell_type": "markdown",
   "source": [
    "# Web Scraping Basics\n",
    "\n",
    "Web scraping is a powerful tool to have as part of a data science, analyst, or engineering toolkit. \n",
    "It allows you to extract data from websites and use it for your own projects or analysis.\n",
    "\n",
    "In football analytics, web scraping can be used to collect data on players, teams, and matches.\n",
    "Most of the data that teams are using is coming from large and expensive data providers, but we can collect some of this data via web scraping.\n",
    "\n",
    "In this notebook, we will cover the basics of web scraping using Python and the `requests` and `BeautifulSoup` libraries.\n",
    "\n",
    "#### Web Scraping Steps\n",
    "1. Send an HTTP request to the URL of the webpage you want to access\n",
    "2. Get the HTML content of the webpage\n",
    "3. Parse the HTML content\n",
    "4. Extract the data"
   ],
   "metadata": {
    "collapsed": false
   },
   "id": "250edc4c448fed01"
  },
  {
   "cell_type": "code",
   "execution_count": 2,
   "outputs": [],
   "source": [
    "import requests\n",
    "from bs4 import BeautifulSoup"
   ],
   "metadata": {
    "collapsed": false,
    "ExecuteTime": {
     "end_time": "2024-03-09T22:39:28.531377Z",
     "start_time": "2024-03-09T22:39:28.409599Z"
    }
   },
   "id": "58e872a85305f60b"
  },
  {
   "cell_type": "code",
   "execution_count": 3,
   "outputs": [],
   "source": [
    "# We'll start by scraping a normal ecommerce website, Gymshark.com\n",
    "# First, we'll send an HTTP request to the URL of the webpage we want to access\n",
    "\n",
    "url = \"https://www.gymshark.com/products/gymshark-crest-hoodie-black-ss22\"\n",
    "\n",
    "# Let's also go get our headers to pass in\n",
    "headers = {\n",
    "    \"User-Agent\": \"Mozilla/5.0 (Macintosh; Intel Mac OS X 10_15_7) AppleWebKit/537.36 (KHTML, like Gecko) Chrome/121.0.0.0 Safari/537.36\"\n",
    "}\n",
    "\n",
    "response = requests.get(\n",
    "    url,\n",
    "    headers=headers\n",
    ")"
   ],
   "metadata": {
    "collapsed": false,
    "ExecuteTime": {
     "end_time": "2024-03-09T22:39:29.629878Z",
     "start_time": "2024-03-09T22:39:28.866764Z"
    }
   },
   "id": "1ca0972c61b02590"
  },
  {
   "cell_type": "code",
   "execution_count": 4,
   "outputs": [
    {
     "data": {
      "text/plain": "200"
     },
     "execution_count": 4,
     "metadata": {},
     "output_type": "execute_result"
    }
   ],
   "source": [
    "# We can check the status code of the response to see if the request was successful\n",
    "response.status_code"
   ],
   "metadata": {
    "collapsed": false,
    "ExecuteTime": {
     "end_time": "2024-03-09T22:39:33.644964Z",
     "start_time": "2024-03-09T22:39:33.638424Z"
    }
   },
   "id": "6cb0b8d512a7053e"
  },
  {
   "cell_type": "markdown",
   "source": [
    "#### Status Codes\n",
    "You'll mainly see the following status codes when web scraping:\n",
    "\n",
    "- 200, the request was successful\n",
    "- 404, the page was not found\n",
    "- 403, access to the page was forbidden which means we need to add headers to our request or use a proxy\n",
    "- 500, there was an internal server error"
   ],
   "metadata": {
    "collapsed": false
   },
   "id": "c896f750495c5d66"
  },
  {
   "cell_type": "code",
   "execution_count": 6,
   "outputs": [],
   "source": [
    "# We can then parse the HTML content of the webpage using BeautifulSoup\n",
    "soup = BeautifulSoup(response.content, \"html.parser\")"
   ],
   "metadata": {
    "collapsed": false,
    "ExecuteTime": {
     "end_time": "2024-03-09T22:40:21.485069Z",
     "start_time": "2024-03-09T22:40:21.463687Z"
    }
   },
   "id": "9c665a9b6ec39b66"
  },
  {
   "cell_type": "code",
   "execution_count": 10,
   "outputs": [],
   "source": [
    "# Now let's use some css selectors to extract the data we want\n",
    "# Let's start off by getting the title of the product\n",
    "# To select just one element, we can use the `select_one` method\n",
    "title = soup.select_one('h1[class=\"product-information_title__3jR8K\"]').text"
   ],
   "metadata": {
    "collapsed": false,
    "ExecuteTime": {
     "end_time": "2024-03-09T22:49:47.449420Z",
     "start_time": "2024-03-09T22:49:47.442516Z"
    }
   },
   "id": "613c9912bb9b7fc5"
  },
  {
   "cell_type": "code",
   "execution_count": 11,
   "outputs": [],
   "source": [
    "# Now lets get the price of the product\n",
    "price = soup.select_one('div[class=\"product-information_price__pEWjj\"]').text"
   ],
   "metadata": {
    "collapsed": false,
    "ExecuteTime": {
     "end_time": "2024-03-09T22:50:22.281365Z",
     "start_time": "2024-03-09T22:50:22.239073Z"
    }
   },
   "id": "7d6763c6bc4096b"
  },
  {
   "cell_type": "code",
   "execution_count": 15,
   "outputs": [],
   "source": [
    "# Now let's try getting multiple elements\n",
    "# To do this, we can use the `select` method\n",
    "\n",
    "# Let's get the colors of the product\n",
    "# We can do pathings with css selectors to get to the element we want\n",
    "colors = soup.select('div[class=\"variants_variants__C9MOx\"] a img')"
   ],
   "metadata": {
    "collapsed": false,
    "ExecuteTime": {
     "end_time": "2024-03-09T22:54:47.752275Z",
     "start_time": "2024-03-09T22:54:47.749146Z"
    }
   },
   "id": "559e7b8b71f55096"
  },
  {
   "cell_type": "code",
   "execution_count": 16,
   "outputs": [
    {
     "name": "stdout",
     "output_type": "stream",
     "text": [
      "['Black', 'Light Pink', 'Navy', 'Core Olive', 'Stone Grey', 'Light Grey Marl', 'Natural Sage Green', 'Faded Blue']\n"
     ]
    }
   ],
   "source": [
    "# That returned a list of elements, so we can loop through them to get the text\n",
    "colors = [x.attrs['alt'].replace(title + ' in', '').strip() for x in colors]\n",
    "print(colors)"
   ],
   "metadata": {
    "collapsed": false,
    "ExecuteTime": {
     "end_time": "2024-03-09T22:54:48.288325Z",
     "start_time": "2024-03-09T22:54:48.286012Z"
    }
   },
   "id": "dd3a0df43986506"
  },
  {
   "cell_type": "markdown",
   "source": [
    "### Selector helpers\n",
    "- `soup.select_one` returns the first element that matches the selector\n",
    "- `soup.select` returns a list of elements that match the selector\n",
    "\n",
    "We can also use different ways to select elements so that it can be a wildcard, for example:\n",
    "- `*=` -> class name contains a value\n",
    "- `:-soup-contains()` -> text contains a value"
   ],
   "metadata": {
    "collapsed": false
   },
   "id": "ecb5bd38dfe6ab92"
  },
  {
   "cell_type": "code",
   "execution_count": 20,
   "outputs": [],
   "source": [
    "# So we could rewrite colors as \n",
    "colors = soup.select(f'img[alt*=\"{title} in \"]')"
   ],
   "metadata": {
    "collapsed": false,
    "ExecuteTime": {
     "end_time": "2024-03-09T23:06:01.680879Z",
     "start_time": "2024-03-09T23:06:01.676384Z"
    }
   },
   "id": "c7288da1d86a0531"
  },
  {
   "cell_type": "code",
   "execution_count": 22,
   "outputs": [],
   "source": [
    "# if we wanted to get the button that had the \"add to bag\"\n",
    "add_to_bag = soup.select_one('button:-soup-contains(\"Add to bag\")')"
   ],
   "metadata": {
    "collapsed": false,
    "ExecuteTime": {
     "end_time": "2024-03-09T23:08:37.921883Z",
     "start_time": "2024-03-09T23:08:37.918186Z"
    }
   },
   "id": "772ab5d79b0601da"
  },
  {
   "cell_type": "markdown",
   "source": [
    "### Exercise:\n",
    "\n",
    "Now that you've seen how to get the colors, use the same method to get the sizes of the product\n",
    "Make sure that you only select the sizes for this specific product and not all the sizes on the page (There should be 8)"
   ],
   "metadata": {
    "collapsed": false
   },
   "id": "ff4e6cb4154054df"
  },
  {
   "cell_type": "code",
   "execution_count": 17,
   "outputs": [],
   "source": [
    "sizes = \"YOUR CODE HERE\""
   ],
   "metadata": {
    "collapsed": false,
    "ExecuteTime": {
     "end_time": "2024-03-09T22:59:06.331763Z",
     "start_time": "2024-03-09T22:59:06.322420Z"
    }
   },
   "id": "7ea2f999f000f26"
  },
  {
   "cell_type": "code",
   "execution_count": 25,
   "outputs": [],
   "source": [
    "# This is the answer\n",
    "sizes = soup.select('button[data-locator-id*=\"pdp-size\"]')"
   ],
   "metadata": {
    "collapsed": false,
    "ExecuteTime": {
     "end_time": "2024-03-09T23:09:46.914323Z",
     "start_time": "2024-03-09T23:09:46.911345Z"
    }
   },
   "id": "f839278b1fee9ac7"
  }
 ],
 "metadata": {
  "kernelspec": {
   "display_name": "Python 3",
   "language": "python",
   "name": "python3"
  },
  "language_info": {
   "codemirror_mode": {
    "name": "ipython",
    "version": 2
   },
   "file_extension": ".py",
   "mimetype": "text/x-python",
   "name": "python",
   "nbconvert_exporter": "python",
   "pygments_lexer": "ipython2",
   "version": "2.7.6"
  }
 },
 "nbformat": 4,
 "nbformat_minor": 5
}
