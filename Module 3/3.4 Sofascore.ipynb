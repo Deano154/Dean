{
 "cells": [
  {
   "cell_type": "markdown",
   "source": [
    "# Sofascore\n",
    "\n",
    "Sofascore is a website that provides live scores, results, and fixtures for a variety of sports. It also provides statistics and player ratings for football matches. \n",
    "\n",
    "It has some advanced statistics and event data we can use like shots and expected goals.\n",
    "\n",
    "The unique thing about Sofascore is that it is a website that is set up terribly for scraping, but we can still do it thanks to APIs they use to load the data."
   ],
   "metadata": {
    "collapsed": false
   },
   "id": "aa63fc9dcd2db968"
  },
  {
   "cell_type": "code",
   "execution_count": 1,
   "outputs": [],
   "source": [
    "import requests"
   ],
   "metadata": {
    "collapsed": false,
    "ExecuteTime": {
     "end_time": "2024-02-26T13:49:39.670174Z",
     "start_time": "2024-02-26T13:49:39.577096Z"
    }
   },
   "id": "a2dafceb63f7e3ea"
  },
  {
   "cell_type": "code",
   "execution_count": 7,
   "outputs": [],
   "source": [
    "# We'll scrape all of the shot data from the Women's Champions League Final between Barcelona and Wolfsburg in 2023\n",
    "url = 'https://www.sofascore.com/barcelona-vfl-wolfsburg/glcsOhG#id:11253247'\n",
    "\n",
    "# in this url, the id for the match is 11253247\n",
    "match_id = url.split('id:')[-1]"
   ],
   "metadata": {
    "collapsed": false,
    "ExecuteTime": {
     "end_time": "2024-02-26T13:55:51.688342Z",
     "start_time": "2024-02-26T13:55:51.684140Z"
    }
   },
   "id": "7136dba2d9f1e4d4"
  },
  {
   "cell_type": "code",
   "execution_count": 8,
   "outputs": [],
   "source": [
    "# Open the network tab in the developer tools and filter by XHR to find the API call that loads the data\n",
    "# Then look for an api call that is called \"shotmap\"\n",
    "# Copy the cURL command and head over to curlconverter.com and paste the cURL command to get the python requests code\n",
    "headers = {\n",
    "    'authority': 'api.sofascore.com',\n",
    "    'accept': '*/*',\n",
    "    'accept-language': 'en-US,en;q=0.9',\n",
    "    'cache-control': 'max-age=0',\n",
    "    'dnt': '1',\n",
    "    'if-none-match': 'W/\"c8379b88a8\"',\n",
    "    'origin': 'https://www.sofascore.com',\n",
    "    'referer': 'https://www.sofascore.com/',\n",
    "    'sec-ch-ua': '\"Chromium\";v=\"121\", \"Not A(Brand\";v=\"99\"',\n",
    "    'sec-ch-ua-mobile': '?0',\n",
    "    'sec-ch-ua-platform': '\"macOS\"',\n",
    "    'sec-fetch-dest': 'empty',\n",
    "    'sec-fetch-mode': 'cors',\n",
    "    'sec-fetch-site': 'same-site',\n",
    "    'user-agent': 'Mozilla/5.0 (Macintosh; Intel Mac OS X 10_15_7) AppleWebKit/537.36 (KHTML, like Gecko) Chrome/121.0.0.0 Safari/537.36',\n",
    "}\n",
    "\n",
    "response = requests.get(f'https://api.sofascore.com/api/v1/event/{match_id}/shotmap', headers=headers) # replace the id with the id of the match"
   ],
   "metadata": {
    "collapsed": false,
    "ExecuteTime": {
     "end_time": "2024-02-26T13:55:52.599186Z",
     "start_time": "2024-02-26T13:55:52.426011Z"
    }
   },
   "id": "3cc779e4dcf087a5"
  },
  {
   "cell_type": "code",
   "execution_count": 11,
   "outputs": [
    {
     "data": {
      "text/plain": "304"
     },
     "execution_count": 11,
     "metadata": {},
     "output_type": "execute_result"
    }
   ],
   "source": [
    "# The first time you run this you get a 304 status code, which means the data is cached and the response is not updated\n",
    "response.status_code"
   ],
   "metadata": {
    "collapsed": false,
    "ExecuteTime": {
     "end_time": "2024-02-26T13:57:43.407746Z",
     "start_time": "2024-02-26T13:57:43.405111Z"
    }
   },
   "id": "bd301cca42618571"
  },
  {
   "cell_type": "code",
   "execution_count": 12,
   "outputs": [],
   "source": [
    "# We can add the 'last-modified' header to the request to get the data\n",
    "# You can just hardcode todays date, or you can dynamically get the date and time\n",
    "# I've never had a problem hardcoding the date\n",
    "headers['If-Modified-Since'] = 'Mon, 26 Feb 2024 00:00:00 GMT'"
   ],
   "metadata": {
    "collapsed": false,
    "ExecuteTime": {
     "end_time": "2024-02-26T13:57:55.434134Z",
     "start_time": "2024-02-26T13:57:55.430375Z"
    }
   },
   "id": "4d3ad2281f89fbde"
  },
  {
   "cell_type": "code",
   "execution_count": 13,
   "outputs": [],
   "source": [
    "response = requests.get(f'https://api.sofascore.com/api/v1/event/{match_id}/shotmap', headers=headers)"
   ],
   "metadata": {
    "collapsed": false,
    "ExecuteTime": {
     "end_time": "2024-02-26T13:57:58.646718Z",
     "start_time": "2024-02-26T13:57:58.492583Z"
    }
   },
   "id": "b2db9f17dad47cd9"
  },
  {
   "cell_type": "code",
   "execution_count": 14,
   "outputs": [
    {
     "data": {
      "text/plain": "200"
     },
     "execution_count": 14,
     "metadata": {},
     "output_type": "execute_result"
    }
   ],
   "source": [
    "response.status_code"
   ],
   "metadata": {
    "collapsed": false,
    "ExecuteTime": {
     "end_time": "2024-02-26T13:58:00.001189Z",
     "start_time": "2024-02-26T13:57:59.997054Z"
    }
   },
   "id": "b9108d8b4eafa98e"
  },
  {
   "cell_type": "code",
   "execution_count": 15,
   "outputs": [],
   "source": [
    "# Now turn it into a json object\n",
    "data = response.json()"
   ],
   "metadata": {
    "collapsed": false,
    "ExecuteTime": {
     "end_time": "2024-02-26T13:58:53.249963Z",
     "start_time": "2024-02-26T13:58:53.247291Z"
    }
   },
   "id": "a6d5b9eb0ba12165"
  },
  {
   "cell_type": "code",
   "execution_count": 16,
   "outputs": [],
   "source": [
    "import pandas as pd\n",
    "\n",
    "df = pd.DataFrame(data['shotmap'])"
   ],
   "metadata": {
    "collapsed": false,
    "ExecuteTime": {
     "end_time": "2024-02-26T13:59:17.063330Z",
     "start_time": "2024-02-26T13:59:16.610830Z"
    }
   },
   "id": "995651094e7d4fa0"
  },
  {
   "cell_type": "code",
   "execution_count": 18,
   "outputs": [
    {
     "data": {
      "text/plain": "                                              player  isHome shotType  \\\n0  {'name': 'Pauline Bremer', 'firstName': '', 'l...   False     save   \n1  {'name': 'Lucy Bronze', 'firstName': '', 'last...    True    block   \n2  {'name': 'Patricia Guijarro', 'slug': 'patrici...    True    block   \n3  {'name': 'Aitana Bonmatí', 'firstName': '', 'l...    True     save   \n4  {'name': 'Geyse Ferreira', 'firstName': '', 'l...    True     miss   \n5  {'name': 'Fridolina Rolfö', 'firstName': '', '...    True     goal   \n6  {'name': 'Mariona Caldentey', 'firstName': '',...    True     miss   \n7  {'name': 'Ewa Pajor', 'slug': 'pajor-ewa', 'sh...   False     save   \n8  {'name': 'Ewa Pajor', 'slug': 'pajor-ewa', 'sh...   False     save   \n9  {'name': 'Lena Oberdorf', 'firstName': '', 'la...   False     miss   \n\n            situation               playerCoordinates    bodyPart  \\\n0              corner     {'x': 7.7, 'y': 54, 'z': 0}        head   \n1              corner   {'x': 2.7, 'y': 40.2, 'z': 0}        head   \n2           set-piece   {'x': 7.3, 'y': 42.9, 'z': 0}        head   \n3            assisted  {'x': 18.1, 'y': 53.6, 'z': 0}  right-foot   \n4          fast-break   {'x': 9.8, 'y': 71.3, 'z': 0}  right-foot   \n5            assisted   {'x': 6.7, 'y': 44.9, 'z': 0}   left-foot   \n6            assisted   {'x': 7.8, 'y': 55.5, 'z': 0}  right-foot   \n7          fast-break  {'x': 11.4, 'y': 32.4, 'z': 0}  right-foot   \n8            assisted  {'x': 11.4, 'y': 31.8, 'z': 0}  right-foot   \n9  throw-in-set-piece     {'x': 9.3, 'y': 41, 'z': 0}  right-foot   \n\n  goalMouthLocation            goalMouthCoordinates  \\\n0       high-centre  {'x': 0, 'y': 51.7, 'z': 21.5}   \n1        low-centre    {'x': 0, 'y': 51.2, 'z': 19}   \n2        low-centre    {'x': 0, 'y': 51.6, 'z': 19}   \n3        low-centre  {'x': 0, 'y': 49.7, 'z': 17.1}   \n4        high-right  {'x': 0, 'y': 41.8, 'z': 66.7}   \n5        high-right  {'x': 0, 'y': 47.1, 'z': 24.7}   \n6       close-right   {'x': 0, 'y': 40.8, 'z': 9.7}   \n7         high-left  {'x': 0, 'y': 52.3, 'z': 20.9}   \n8        low-centre   {'x': 0, 'y': 51.5, 'z': 1.9}   \n9         high-left  {'x': 0, 'y': 56.3, 'z': 81.9}   \n\n                blockCoordinates       id  time  addedTime  timeSeconds  \\\n0    {'x': 1, 'y': 52.5, 'z': 0}  2068363    90        9.0         5910   \n1  {'x': 1.4, 'y': 44.4, 'z': 0}  2068297    80        NaN         4748   \n2    {'x': 5.8, 'y': 44, 'z': 0}  2068287    78        NaN         4675   \n3  {'x': 1.2, 'y': 51.3, 'z': 0}  2068275    76        NaN         4511   \n4                            NaN  2068267    72        NaN         4295   \n5                            NaN  2068254    70        NaN         4177   \n6  {'x': 4.5, 'y': 56.7, 'z': 0}  2068262    70        NaN         4171   \n7  {'x': 1.8, 'y': 47.3, 'z': 0}  2068253    69        NaN         4102   \n8  {'x': 2.2, 'y': 45.8, 'z': 0}  2068250    67        NaN         4018   \n9                            NaN  2068237    65        NaN         3886   \n\n                                                draw  reversedPeriodTime  \\\n0  {'start': {'x': 54, 'y': 7.7}, 'block': {'x': ...                   1   \n1  {'start': {'x': 40.2, 'y': 2.7}, 'block': {'x'...                  11   \n2  {'start': {'x': 42.9, 'y': 7.3}, 'block': {'x'...                  13   \n3  {'start': {'x': 53.6, 'y': 18.1}, 'block': {'x...                  15   \n4  {'start': {'x': 71.3, 'y': 9.8}, 'end': {'x': ...                  19   \n5  {'start': {'x': 44.9, 'y': 6.7}, 'end': {'x': ...                  21   \n6  {'start': {'x': 55.5, 'y': 7.8}, 'block': {'x'...                  21   \n7  {'start': {'x': 32.4, 'y': 11.4}, 'block': {'x...                  22   \n8  {'start': {'x': 31.8, 'y': 11.4}, 'block': {'x...                  24   \n9  {'start': {'x': 41, 'y': 9.3}, 'end': {'x': 43...                  26   \n\n   reversedPeriodTimeSeconds incidentType goalType  \n0                        390         shot      NaN  \n1                        652         shot      NaN  \n2                        725         shot      NaN  \n3                        889         shot      NaN  \n4                       1105         shot      NaN  \n5                       1223         shot  regular  \n6                       1229         shot      NaN  \n7                       1298         shot      NaN  \n8                       1382         shot      NaN  \n9                       1514         shot      NaN  ",
      "text/html": "<div>\n<style scoped>\n    .dataframe tbody tr th:only-of-type {\n        vertical-align: middle;\n    }\n\n    .dataframe tbody tr th {\n        vertical-align: top;\n    }\n\n    .dataframe thead th {\n        text-align: right;\n    }\n</style>\n<table border=\"1\" class=\"dataframe\">\n  <thead>\n    <tr style=\"text-align: right;\">\n      <th></th>\n      <th>player</th>\n      <th>isHome</th>\n      <th>shotType</th>\n      <th>situation</th>\n      <th>playerCoordinates</th>\n      <th>bodyPart</th>\n      <th>goalMouthLocation</th>\n      <th>goalMouthCoordinates</th>\n      <th>blockCoordinates</th>\n      <th>id</th>\n      <th>time</th>\n      <th>addedTime</th>\n      <th>timeSeconds</th>\n      <th>draw</th>\n      <th>reversedPeriodTime</th>\n      <th>reversedPeriodTimeSeconds</th>\n      <th>incidentType</th>\n      <th>goalType</th>\n    </tr>\n  </thead>\n  <tbody>\n    <tr>\n      <th>0</th>\n      <td>{'name': 'Pauline Bremer', 'firstName': '', 'l...</td>\n      <td>False</td>\n      <td>save</td>\n      <td>corner</td>\n      <td>{'x': 7.7, 'y': 54, 'z': 0}</td>\n      <td>head</td>\n      <td>high-centre</td>\n      <td>{'x': 0, 'y': 51.7, 'z': 21.5}</td>\n      <td>{'x': 1, 'y': 52.5, 'z': 0}</td>\n      <td>2068363</td>\n      <td>90</td>\n      <td>9.0</td>\n      <td>5910</td>\n      <td>{'start': {'x': 54, 'y': 7.7}, 'block': {'x': ...</td>\n      <td>1</td>\n      <td>390</td>\n      <td>shot</td>\n      <td>NaN</td>\n    </tr>\n    <tr>\n      <th>1</th>\n      <td>{'name': 'Lucy Bronze', 'firstName': '', 'last...</td>\n      <td>True</td>\n      <td>block</td>\n      <td>corner</td>\n      <td>{'x': 2.7, 'y': 40.2, 'z': 0}</td>\n      <td>head</td>\n      <td>low-centre</td>\n      <td>{'x': 0, 'y': 51.2, 'z': 19}</td>\n      <td>{'x': 1.4, 'y': 44.4, 'z': 0}</td>\n      <td>2068297</td>\n      <td>80</td>\n      <td>NaN</td>\n      <td>4748</td>\n      <td>{'start': {'x': 40.2, 'y': 2.7}, 'block': {'x'...</td>\n      <td>11</td>\n      <td>652</td>\n      <td>shot</td>\n      <td>NaN</td>\n    </tr>\n    <tr>\n      <th>2</th>\n      <td>{'name': 'Patricia Guijarro', 'slug': 'patrici...</td>\n      <td>True</td>\n      <td>block</td>\n      <td>set-piece</td>\n      <td>{'x': 7.3, 'y': 42.9, 'z': 0}</td>\n      <td>head</td>\n      <td>low-centre</td>\n      <td>{'x': 0, 'y': 51.6, 'z': 19}</td>\n      <td>{'x': 5.8, 'y': 44, 'z': 0}</td>\n      <td>2068287</td>\n      <td>78</td>\n      <td>NaN</td>\n      <td>4675</td>\n      <td>{'start': {'x': 42.9, 'y': 7.3}, 'block': {'x'...</td>\n      <td>13</td>\n      <td>725</td>\n      <td>shot</td>\n      <td>NaN</td>\n    </tr>\n    <tr>\n      <th>3</th>\n      <td>{'name': 'Aitana Bonmatí', 'firstName': '', 'l...</td>\n      <td>True</td>\n      <td>save</td>\n      <td>assisted</td>\n      <td>{'x': 18.1, 'y': 53.6, 'z': 0}</td>\n      <td>right-foot</td>\n      <td>low-centre</td>\n      <td>{'x': 0, 'y': 49.7, 'z': 17.1}</td>\n      <td>{'x': 1.2, 'y': 51.3, 'z': 0}</td>\n      <td>2068275</td>\n      <td>76</td>\n      <td>NaN</td>\n      <td>4511</td>\n      <td>{'start': {'x': 53.6, 'y': 18.1}, 'block': {'x...</td>\n      <td>15</td>\n      <td>889</td>\n      <td>shot</td>\n      <td>NaN</td>\n    </tr>\n    <tr>\n      <th>4</th>\n      <td>{'name': 'Geyse Ferreira', 'firstName': '', 'l...</td>\n      <td>True</td>\n      <td>miss</td>\n      <td>fast-break</td>\n      <td>{'x': 9.8, 'y': 71.3, 'z': 0}</td>\n      <td>right-foot</td>\n      <td>high-right</td>\n      <td>{'x': 0, 'y': 41.8, 'z': 66.7}</td>\n      <td>NaN</td>\n      <td>2068267</td>\n      <td>72</td>\n      <td>NaN</td>\n      <td>4295</td>\n      <td>{'start': {'x': 71.3, 'y': 9.8}, 'end': {'x': ...</td>\n      <td>19</td>\n      <td>1105</td>\n      <td>shot</td>\n      <td>NaN</td>\n    </tr>\n    <tr>\n      <th>5</th>\n      <td>{'name': 'Fridolina Rolfö', 'firstName': '', '...</td>\n      <td>True</td>\n      <td>goal</td>\n      <td>assisted</td>\n      <td>{'x': 6.7, 'y': 44.9, 'z': 0}</td>\n      <td>left-foot</td>\n      <td>high-right</td>\n      <td>{'x': 0, 'y': 47.1, 'z': 24.7}</td>\n      <td>NaN</td>\n      <td>2068254</td>\n      <td>70</td>\n      <td>NaN</td>\n      <td>4177</td>\n      <td>{'start': {'x': 44.9, 'y': 6.7}, 'end': {'x': ...</td>\n      <td>21</td>\n      <td>1223</td>\n      <td>shot</td>\n      <td>regular</td>\n    </tr>\n    <tr>\n      <th>6</th>\n      <td>{'name': 'Mariona Caldentey', 'firstName': '',...</td>\n      <td>True</td>\n      <td>miss</td>\n      <td>assisted</td>\n      <td>{'x': 7.8, 'y': 55.5, 'z': 0}</td>\n      <td>right-foot</td>\n      <td>close-right</td>\n      <td>{'x': 0, 'y': 40.8, 'z': 9.7}</td>\n      <td>{'x': 4.5, 'y': 56.7, 'z': 0}</td>\n      <td>2068262</td>\n      <td>70</td>\n      <td>NaN</td>\n      <td>4171</td>\n      <td>{'start': {'x': 55.5, 'y': 7.8}, 'block': {'x'...</td>\n      <td>21</td>\n      <td>1229</td>\n      <td>shot</td>\n      <td>NaN</td>\n    </tr>\n    <tr>\n      <th>7</th>\n      <td>{'name': 'Ewa Pajor', 'slug': 'pajor-ewa', 'sh...</td>\n      <td>False</td>\n      <td>save</td>\n      <td>fast-break</td>\n      <td>{'x': 11.4, 'y': 32.4, 'z': 0}</td>\n      <td>right-foot</td>\n      <td>high-left</td>\n      <td>{'x': 0, 'y': 52.3, 'z': 20.9}</td>\n      <td>{'x': 1.8, 'y': 47.3, 'z': 0}</td>\n      <td>2068253</td>\n      <td>69</td>\n      <td>NaN</td>\n      <td>4102</td>\n      <td>{'start': {'x': 32.4, 'y': 11.4}, 'block': {'x...</td>\n      <td>22</td>\n      <td>1298</td>\n      <td>shot</td>\n      <td>NaN</td>\n    </tr>\n    <tr>\n      <th>8</th>\n      <td>{'name': 'Ewa Pajor', 'slug': 'pajor-ewa', 'sh...</td>\n      <td>False</td>\n      <td>save</td>\n      <td>assisted</td>\n      <td>{'x': 11.4, 'y': 31.8, 'z': 0}</td>\n      <td>right-foot</td>\n      <td>low-centre</td>\n      <td>{'x': 0, 'y': 51.5, 'z': 1.9}</td>\n      <td>{'x': 2.2, 'y': 45.8, 'z': 0}</td>\n      <td>2068250</td>\n      <td>67</td>\n      <td>NaN</td>\n      <td>4018</td>\n      <td>{'start': {'x': 31.8, 'y': 11.4}, 'block': {'x...</td>\n      <td>24</td>\n      <td>1382</td>\n      <td>shot</td>\n      <td>NaN</td>\n    </tr>\n    <tr>\n      <th>9</th>\n      <td>{'name': 'Lena Oberdorf', 'firstName': '', 'la...</td>\n      <td>False</td>\n      <td>miss</td>\n      <td>throw-in-set-piece</td>\n      <td>{'x': 9.3, 'y': 41, 'z': 0}</td>\n      <td>right-foot</td>\n      <td>high-left</td>\n      <td>{'x': 0, 'y': 56.3, 'z': 81.9}</td>\n      <td>NaN</td>\n      <td>2068237</td>\n      <td>65</td>\n      <td>NaN</td>\n      <td>3886</td>\n      <td>{'start': {'x': 41, 'y': 9.3}, 'end': {'x': 43...</td>\n      <td>26</td>\n      <td>1514</td>\n      <td>shot</td>\n      <td>NaN</td>\n    </tr>\n  </tbody>\n</table>\n</div>"
     },
     "execution_count": 18,
     "metadata": {},
     "output_type": "execute_result"
    }
   ],
   "source": [
    "df.head(10)"
   ],
   "metadata": {
    "collapsed": false,
    "ExecuteTime": {
     "end_time": "2024-02-26T14:00:04.840373Z",
     "start_time": "2024-02-26T14:00:04.831106Z"
    }
   },
   "id": "87037e9c2327dadd"
  },
  {
   "cell_type": "code",
   "execution_count": null,
   "outputs": [],
   "source": [],
   "metadata": {
    "collapsed": false
   },
   "id": "ea50ea7f9dedaae1"
  }
 ],
 "metadata": {
  "kernelspec": {
   "display_name": "Python 3",
   "language": "python",
   "name": "python3"
  },
  "language_info": {
   "codemirror_mode": {
    "name": "ipython",
    "version": 2
   },
   "file_extension": ".py",
   "mimetype": "text/x-python",
   "name": "python",
   "nbconvert_exporter": "python",
   "pygments_lexer": "ipython2",
   "version": "2.7.6"
  }
 },
 "nbformat": 4,
 "nbformat_minor": 5
}
